{
 "cells": [
  {
   "cell_type": "code",
   "execution_count": 1,
   "metadata": {},
   "outputs": [],
   "source": [
    "import geopandas as gpd\n",
    "import pandas as pd"
   ]
  },
  {
   "cell_type": "markdown",
   "metadata": {},
   "source": [
    "# Parcelas"
   ]
  },
  {
   "cell_type": "code",
   "execution_count": 2,
   "metadata": {},
   "outputs": [
    {
     "name": "stderr",
     "output_type": "stream",
     "text": [
      "/home/godo/.local/lib/python3.10/site-packages/pyogrio/raw.py:196: RuntimeWarning: parcelas/sanroque/parcelas.shp contains polygon(s) with rings with invalid winding order. Autocorrecting them, but that shapefile should be corrected using ogr2ogr for example.\n",
      "  return ogr_read(\n"
     ]
    },
    {
     "data": {
      "text/html": [
       "<div>\n",
       "<style scoped>\n",
       "    .dataframe tbody tr th:only-of-type {\n",
       "        vertical-align: middle;\n",
       "    }\n",
       "\n",
       "    .dataframe tbody tr th {\n",
       "        vertical-align: top;\n",
       "    }\n",
       "\n",
       "    .dataframe thead th {\n",
       "        text-align: right;\n",
       "    }\n",
       "</style>\n",
       "<table border=\"1\" class=\"dataframe\">\n",
       "  <thead>\n",
       "    <tr style=\"text-align: right;\">\n",
       "      <th></th>\n",
       "      <th>par_idparc</th>\n",
       "      <th>Nomenclatu</th>\n",
       "      <th>Tipo_Parce</th>\n",
       "      <th>Tipo_Valua</th>\n",
       "      <th>Estado</th>\n",
       "      <th>desig_ofic</th>\n",
       "      <th>exp_creaci</th>\n",
       "      <th>Fecha_Crea</th>\n",
       "      <th>fecha_alta</th>\n",
       "      <th>fxf</th>\n",
       "      <th>...</th>\n",
       "      <th>base_impo1</th>\n",
       "      <th>Cantidad_C</th>\n",
       "      <th>departamen</th>\n",
       "      <th>pedania</th>\n",
       "      <th>localidad</th>\n",
       "      <th>par_entity</th>\n",
       "      <th>row_number</th>\n",
       "      <th>Nro_Cuenta</th>\n",
       "      <th>ped_nomenc</th>\n",
       "      <th>geometry</th>\n",
       "    </tr>\n",
       "  </thead>\n",
       "  <tbody>\n",
       "    <tr>\n",
       "      <th>0</th>\n",
       "      <td>1143575.0</td>\n",
       "      <td>2304463102192004</td>\n",
       "      <td>URBANO</td>\n",
       "      <td>VAL. URBANO</td>\n",
       "      <td>EDIFICADO NoPH</td>\n",
       "      <td>Mz. 60- Lote 4</td>\n",
       "      <td>-      /</td>\n",
       "      <td>01-1901</td>\n",
       "      <td>03-2007</td>\n",
       "      <td>1.0</td>\n",
       "      <td>...</td>\n",
       "      <td>0.0</td>\n",
       "      <td>1.0</td>\n",
       "      <td>PUNILLA</td>\n",
       "      <td>SAN ROQUE</td>\n",
       "      <td>SAN ROQUE</td>\n",
       "      <td>4.485138e+06</td>\n",
       "      <td>955586.0</td>\n",
       "      <td>2.304315e+11</td>\n",
       "      <td>2304</td>\n",
       "      <td>POLYGON ((4361710.381 6531368.479, 4361755.287...</td>\n",
       "    </tr>\n",
       "    <tr>\n",
       "      <th>1</th>\n",
       "      <td>1149187.0</td>\n",
       "      <td>2304483602288012</td>\n",
       "      <td>URBANO</td>\n",
       "      <td>VAL. URBANO</td>\n",
       "      <td>EDIFICADO NoPH</td>\n",
       "      <td>MZ 22-LT 12</td>\n",
       "      <td>00001103104</td>\n",
       "      <td>01-1901</td>\n",
       "      <td>03-2007</td>\n",
       "      <td>0.8</td>\n",
       "      <td>...</td>\n",
       "      <td>0.0</td>\n",
       "      <td>1.0</td>\n",
       "      <td>PUNILLA</td>\n",
       "      <td>SAN ROQUE</td>\n",
       "      <td>TANTI</td>\n",
       "      <td>4.471309e+06</td>\n",
       "      <td>960534.0</td>\n",
       "      <td>2.304110e+11</td>\n",
       "      <td>2304</td>\n",
       "      <td>POLYGON ((4355133.967 6529455.643, 4355092.248...</td>\n",
       "    </tr>\n",
       "    <tr>\n",
       "      <th>2</th>\n",
       "      <td>1166115.0</td>\n",
       "      <td>2304553702312008</td>\n",
       "      <td>URBANO</td>\n",
       "      <td>VAL. URBANO</td>\n",
       "      <td>EDIFICADO NoPH</td>\n",
       "      <td>MZ 1 LT 8</td>\n",
       "      <td>00000636111</td>\n",
       "      <td>01-1901</td>\n",
       "      <td>03-2007</td>\n",
       "      <td>0.9</td>\n",
       "      <td>...</td>\n",
       "      <td>0.0</td>\n",
       "      <td>1.0</td>\n",
       "      <td>PUNILLA</td>\n",
       "      <td>SAN ROQUE</td>\n",
       "      <td>VILLA CARLOS PAZ</td>\n",
       "      <td>4.460418e+06</td>\n",
       "      <td>975157.0</td>\n",
       "      <td>2.304064e+11</td>\n",
       "      <td>2304</td>\n",
       "      <td>POLYGON ((4356825.912 6526709.851, 4356824.787...</td>\n",
       "    </tr>\n",
       "    <tr>\n",
       "      <th>3</th>\n",
       "      <td>1190091.0</td>\n",
       "      <td>2304583702115013</td>\n",
       "      <td>URBANO</td>\n",
       "      <td>VAL. URBANO</td>\n",
       "      <td>BALDIO</td>\n",
       "      <td>MZ 82 LT 12</td>\n",
       "      <td>00001088488</td>\n",
       "      <td>01-1901</td>\n",
       "      <td>03-2007</td>\n",
       "      <td>0.9</td>\n",
       "      <td>...</td>\n",
       "      <td>0.0</td>\n",
       "      <td>1.0</td>\n",
       "      <td>PUNILLA</td>\n",
       "      <td>SAN ROQUE</td>\n",
       "      <td>VILLA DEL LAGO (ESTANCIA VIEJA)</td>\n",
       "      <td>4.439670e+06</td>\n",
       "      <td>994014.0</td>\n",
       "      <td>2.304109e+11</td>\n",
       "      <td>2304</td>\n",
       "      <td>POLYGON ((4354494.205 6527931.697, 4354498.267...</td>\n",
       "    </tr>\n",
       "    <tr>\n",
       "      <th>4</th>\n",
       "      <td>1186908.0</td>\n",
       "      <td>2304554202029030</td>\n",
       "      <td>URBANO</td>\n",
       "      <td>VAL. URBANO</td>\n",
       "      <td>EDIFICADO NoPH</td>\n",
       "      <td>MZ 9 LT 44</td>\n",
       "      <td>00332286417</td>\n",
       "      <td>01-1992</td>\n",
       "      <td>03-2007</td>\n",
       "      <td>0.9</td>\n",
       "      <td>...</td>\n",
       "      <td>0.0</td>\n",
       "      <td>1.0</td>\n",
       "      <td>PUNILLA</td>\n",
       "      <td>SAN ROQUE</td>\n",
       "      <td>VILLA CARLOS PAZ</td>\n",
       "      <td>1.184940e+09</td>\n",
       "      <td>991318.0</td>\n",
       "      <td>2.304229e+11</td>\n",
       "      <td>2304</td>\n",
       "      <td>POLYGON ((4356200.944 6520901.649, 4356210.631...</td>\n",
       "    </tr>\n",
       "    <tr>\n",
       "      <th>...</th>\n",
       "      <td>...</td>\n",
       "      <td>...</td>\n",
       "      <td>...</td>\n",
       "      <td>...</td>\n",
       "      <td>...</td>\n",
       "      <td>...</td>\n",
       "      <td>...</td>\n",
       "      <td>...</td>\n",
       "      <td>...</td>\n",
       "      <td>...</td>\n",
       "      <td>...</td>\n",
       "      <td>...</td>\n",
       "      <td>...</td>\n",
       "      <td>...</td>\n",
       "      <td>...</td>\n",
       "      <td>...</td>\n",
       "      <td>...</td>\n",
       "      <td>...</td>\n",
       "      <td>...</td>\n",
       "      <td>...</td>\n",
       "      <td>...</td>\n",
       "    </tr>\n",
       "    <tr>\n",
       "      <th>5578</th>\n",
       "      <td>1202100.0</td>\n",
       "      <td>2305604701010010</td>\n",
       "      <td>URBANO</td>\n",
       "      <td>VAL. URBANO</td>\n",
       "      <td>BALDIO</td>\n",
       "      <td>011 002</td>\n",
       "      <td>None</td>\n",
       "      <td>01-1901</td>\n",
       "      <td>03-2007</td>\n",
       "      <td>0.9</td>\n",
       "      <td>...</td>\n",
       "      <td>0.0</td>\n",
       "      <td>1.0</td>\n",
       "      <td>PUNILLA</td>\n",
       "      <td>SANTIAGO</td>\n",
       "      <td>VILLA ICHO CRUZ</td>\n",
       "      <td>4.542567e+06</td>\n",
       "      <td>1004128.0</td>\n",
       "      <td>2.305316e+11</td>\n",
       "      <td>2305</td>\n",
       "      <td>POLYGON ((4352015.724 6517196.737, 4352050.318...</td>\n",
       "    </tr>\n",
       "    <tr>\n",
       "      <th>5579</th>\n",
       "      <td>1201453.0</td>\n",
       "      <td>2305414801090002</td>\n",
       "      <td>URBANO</td>\n",
       "      <td>VAL. URBANO</td>\n",
       "      <td>BALDIO</td>\n",
       "      <td>MZ J LT 1</td>\n",
       "      <td>0000-083220/6</td>\n",
       "      <td>01-1901</td>\n",
       "      <td>03-2007</td>\n",
       "      <td>0.9</td>\n",
       "      <td>...</td>\n",
       "      <td>0.0</td>\n",
       "      <td>1.0</td>\n",
       "      <td>PUNILLA</td>\n",
       "      <td>SANTIAGO</td>\n",
       "      <td>SAN ANTONIO DE ARREDONDO</td>\n",
       "      <td>4.492120e+06</td>\n",
       "      <td>1003555.0</td>\n",
       "      <td>2.305083e+11</td>\n",
       "      <td>2305</td>\n",
       "      <td>POLYGON ((4352951.532 6510528.131, 4352943.375...</td>\n",
       "    </tr>\n",
       "    <tr>\n",
       "      <th>5580</th>\n",
       "      <td>1205288.0</td>\n",
       "      <td>2305604702039011</td>\n",
       "      <td>URBANO</td>\n",
       "      <td>VAL. URBANO</td>\n",
       "      <td>EDIFICADO NoPH</td>\n",
       "      <td>MZ 4 LT 1</td>\n",
       "      <td>00000544899</td>\n",
       "      <td>01-1901</td>\n",
       "      <td>03-2007</td>\n",
       "      <td>0.9</td>\n",
       "      <td>...</td>\n",
       "      <td>0.0</td>\n",
       "      <td>1.0</td>\n",
       "      <td>PUNILLA</td>\n",
       "      <td>SANTIAGO</td>\n",
       "      <td>VILLA ICHO CRUZ</td>\n",
       "      <td>4.542831e+06</td>\n",
       "      <td>1007047.0</td>\n",
       "      <td>2.305054e+11</td>\n",
       "      <td>2305</td>\n",
       "      <td>POLYGON ((4353564.751 6517487.799, 4353582.376...</td>\n",
       "    </tr>\n",
       "    <tr>\n",
       "      <th>5581</th>\n",
       "      <td>1204109.0</td>\n",
       "      <td>2305604701128012</td>\n",
       "      <td>URBANO</td>\n",
       "      <td>VAL. URBANO</td>\n",
       "      <td>BALDIO</td>\n",
       "      <td>LT 2</td>\n",
       "      <td>None</td>\n",
       "      <td>01-1901</td>\n",
       "      <td>03-2007</td>\n",
       "      <td>0.6</td>\n",
       "      <td>...</td>\n",
       "      <td>0.0</td>\n",
       "      <td>1.0</td>\n",
       "      <td>PUNILLA</td>\n",
       "      <td>SANTIAGO</td>\n",
       "      <td>VILLA ICHO CRUZ</td>\n",
       "      <td>2.007355e+09</td>\n",
       "      <td>1005976.0</td>\n",
       "      <td>2.305167e+11</td>\n",
       "      <td>2305</td>\n",
       "      <td>POLYGON ((4350867.692 6518696.041, 4350935.755...</td>\n",
       "    </tr>\n",
       "    <tr>\n",
       "      <th>5582</th>\n",
       "      <td>1202399.0</td>\n",
       "      <td>2305604701026015</td>\n",
       "      <td>URBANO</td>\n",
       "      <td>VAL. URBANO</td>\n",
       "      <td>EDIFICADO NoPH</td>\n",
       "      <td>MZ O   LT 18</td>\n",
       "      <td>00000444663</td>\n",
       "      <td>01-1901</td>\n",
       "      <td>03-2007</td>\n",
       "      <td>0.5</td>\n",
       "      <td>...</td>\n",
       "      <td>0.0</td>\n",
       "      <td>1.0</td>\n",
       "      <td>PUNILLA</td>\n",
       "      <td>SANTIAGO</td>\n",
       "      <td>VILLA ICHO CRUZ</td>\n",
       "      <td>4.542263e+06</td>\n",
       "      <td>1004391.0</td>\n",
       "      <td>2.305044e+11</td>\n",
       "      <td>2305</td>\n",
       "      <td>POLYGON ((4351836.318 6516705.708, 4351844.693...</td>\n",
       "    </tr>\n",
       "  </tbody>\n",
       "</table>\n",
       "<p>65098 rows × 32 columns</p>\n",
       "</div>"
      ],
      "text/plain": [
       "      par_idparc        Nomenclatu Tipo_Parce   Tipo_Valua          Estado  \\\n",
       "0      1143575.0  2304463102192004     URBANO  VAL. URBANO  EDIFICADO NoPH   \n",
       "1      1149187.0  2304483602288012     URBANO  VAL. URBANO  EDIFICADO NoPH   \n",
       "2      1166115.0  2304553702312008     URBANO  VAL. URBANO  EDIFICADO NoPH   \n",
       "3      1190091.0  2304583702115013     URBANO  VAL. URBANO          BALDIO   \n",
       "4      1186908.0  2304554202029030     URBANO  VAL. URBANO  EDIFICADO NoPH   \n",
       "...          ...               ...        ...          ...             ...   \n",
       "5578   1202100.0  2305604701010010     URBANO  VAL. URBANO          BALDIO   \n",
       "5579   1201453.0  2305414801090002     URBANO  VAL. URBANO          BALDIO   \n",
       "5580   1205288.0  2305604702039011     URBANO  VAL. URBANO  EDIFICADO NoPH   \n",
       "5581   1204109.0  2305604701128012     URBANO  VAL. URBANO          BALDIO   \n",
       "5582   1202399.0  2305604701026015     URBANO  VAL. URBANO  EDIFICADO NoPH   \n",
       "\n",
       "          desig_ofic     exp_creaci Fecha_Crea fecha_alta  fxf  ...  \\\n",
       "0     Mz. 60- Lote 4       -      /    01-1901    03-2007  1.0  ...   \n",
       "1        MZ 22-LT 12    00001103104    01-1901    03-2007  0.8  ...   \n",
       "2          MZ 1 LT 8    00000636111    01-1901    03-2007  0.9  ...   \n",
       "3        MZ 82 LT 12    00001088488    01-1901    03-2007  0.9  ...   \n",
       "4         MZ 9 LT 44    00332286417    01-1992    03-2007  0.9  ...   \n",
       "...              ...            ...        ...        ...  ...  ...   \n",
       "5578         011 002           None    01-1901    03-2007  0.9  ...   \n",
       "5579       MZ J LT 1  0000-083220/6    01-1901    03-2007  0.9  ...   \n",
       "5580       MZ 4 LT 1    00000544899    01-1901    03-2007  0.9  ...   \n",
       "5581            LT 2           None    01-1901    03-2007  0.6  ...   \n",
       "5582    MZ O   LT 18    00000444663    01-1901    03-2007  0.5  ...   \n",
       "\n",
       "      base_impo1  Cantidad_C departamen    pedania  \\\n",
       "0            0.0         1.0    PUNILLA  SAN ROQUE   \n",
       "1            0.0         1.0    PUNILLA  SAN ROQUE   \n",
       "2            0.0         1.0    PUNILLA  SAN ROQUE   \n",
       "3            0.0         1.0    PUNILLA  SAN ROQUE   \n",
       "4            0.0         1.0    PUNILLA  SAN ROQUE   \n",
       "...          ...         ...        ...        ...   \n",
       "5578         0.0         1.0    PUNILLA   SANTIAGO   \n",
       "5579         0.0         1.0    PUNILLA   SANTIAGO   \n",
       "5580         0.0         1.0    PUNILLA   SANTIAGO   \n",
       "5581         0.0         1.0    PUNILLA   SANTIAGO   \n",
       "5582         0.0         1.0    PUNILLA   SANTIAGO   \n",
       "\n",
       "                            localidad    par_entity  row_number    Nro_Cuenta  \\\n",
       "0                           SAN ROQUE  4.485138e+06    955586.0  2.304315e+11   \n",
       "1                               TANTI  4.471309e+06    960534.0  2.304110e+11   \n",
       "2                    VILLA CARLOS PAZ  4.460418e+06    975157.0  2.304064e+11   \n",
       "3     VILLA DEL LAGO (ESTANCIA VIEJA)  4.439670e+06    994014.0  2.304109e+11   \n",
       "4                    VILLA CARLOS PAZ  1.184940e+09    991318.0  2.304229e+11   \n",
       "...                               ...           ...         ...           ...   \n",
       "5578                  VILLA ICHO CRUZ  4.542567e+06   1004128.0  2.305316e+11   \n",
       "5579         SAN ANTONIO DE ARREDONDO  4.492120e+06   1003555.0  2.305083e+11   \n",
       "5580                  VILLA ICHO CRUZ  4.542831e+06   1007047.0  2.305054e+11   \n",
       "5581                  VILLA ICHO CRUZ  2.007355e+09   1005976.0  2.305167e+11   \n",
       "5582                  VILLA ICHO CRUZ  4.542263e+06   1004391.0  2.305044e+11   \n",
       "\n",
       "      ped_nomenc                                           geometry  \n",
       "0           2304  POLYGON ((4361710.381 6531368.479, 4361755.287...  \n",
       "1           2304  POLYGON ((4355133.967 6529455.643, 4355092.248...  \n",
       "2           2304  POLYGON ((4356825.912 6526709.851, 4356824.787...  \n",
       "3           2304  POLYGON ((4354494.205 6527931.697, 4354498.267...  \n",
       "4           2304  POLYGON ((4356200.944 6520901.649, 4356210.631...  \n",
       "...          ...                                                ...  \n",
       "5578        2305  POLYGON ((4352015.724 6517196.737, 4352050.318...  \n",
       "5579        2305  POLYGON ((4352951.532 6510528.131, 4352943.375...  \n",
       "5580        2305  POLYGON ((4353564.751 6517487.799, 4353582.376...  \n",
       "5581        2305  POLYGON ((4350867.692 6518696.041, 4350935.755...  \n",
       "5582        2305  POLYGON ((4351836.318 6516705.708, 4351844.693...  \n",
       "\n",
       "[65098 rows x 32 columns]"
      ]
     },
     "execution_count": 2,
     "metadata": {},
     "output_type": "execute_result"
    }
   ],
   "source": [
    "sanroque = gpd.read_file('parcelas/sanroque/parcelas.shp')\n",
    "santiago = gpd.read_file('parcelas/santiago/parcelas.shp')\n",
    "parcelas = pd.concat([sanroque, santiago])\n",
    "\n",
    "parcelas"
   ]
  },
  {
   "cell_type": "code",
   "execution_count": 3,
   "metadata": {},
   "outputs": [],
   "source": [
    "parcelas.plot()"
   ]
  },
  {
   "cell_type": "markdown",
   "metadata": {},
   "source": [
    "# Reclamos"
   ]
  },
  {
   "cell_type": "code",
   "execution_count": null,
   "metadata": {},
   "outputs": [],
   "source": [
    "claims = pd.read_csv('Claims-WorkingFile_v2.csv')\n",
    "claims['idParcela'] = claims['idParcela'].apply(lambda id: int(id.split('-')[0]))\n",
    "claims[claims['Validado'] == 'X']"
   ]
  },
  {
   "cell_type": "code",
   "execution_count": null,
   "metadata": {},
   "outputs": [],
   "source": [
    "claims.describe()"
   ]
  },
  {
   "cell_type": "markdown",
   "metadata": {},
   "source": [
    "# Join"
   ]
  },
  {
   "cell_type": "code",
   "execution_count": null,
   "metadata": {},
   "outputs": [],
   "source": [
    "join = parcelas.set_index('par_idparc').join(claims.set_index('idParcela'), how='right')\n",
    "join.to_csv('join.csv')"
   ]
  },
  {
   "cell_type": "code",
   "execution_count": null,
   "metadata": {},
   "outputs": [],
   "source": [
    "join.describe()"
   ]
  },
  {
   "cell_type": "markdown",
   "metadata": {},
   "source": [
    "# Satelites"
   ]
  },
  {
   "cell_type": "code",
   "execution_count": null,
   "metadata": {},
   "outputs": [],
   "source": [
    "import rasterio\n",
    "from rasterio.plot import show\n",
    "from rasterio.mask import mask\n",
    "import matplotlib.pyplot as plt\n",
    "import numpy as np"
   ]
  },
  {
   "cell_type": "code",
   "execution_count": null,
   "metadata": {},
   "outputs": [],
   "source": [
    "# Usar dnbr.py para generar dnbr.tif\n",
    "#   e.g. python3 dnbr.py --prefire <archivo> --postfire <archivo>\n",
    "dnbr = rasterio.open('dnbr.tif')\n",
    "join = join.to_crs(dnbr.crs)"
   ]
  },
  {
   "cell_type": "code",
   "execution_count": null,
   "metadata": {},
   "outputs": [],
   "source": [
    "fig, ax = plt.subplots()\n",
    "ax = rasterio.plot.show(dnbr, ax=ax, cmap='inferno')\n",
    "\n",
    "minx, miny, maxx, maxy = join.total_bounds\n",
    "ax.set_xlim(minx, maxx)\n",
    "ax.set_ylim(miny, maxy)\n",
    "join.boundary.plot(ax=ax, alpha=0.5)"
   ]
  },
  {
   "cell_type": "code",
   "execution_count": null,
   "metadata": {},
   "outputs": [],
   "source": [
    "def dnbr_promedio(parcela, dnbr):\n",
    "    try:\n",
    "        mask, _ = rasterio.mask.mask(dnbr, [parcela], crop=True, all_touched=True)\n",
    "        mask = mask.squeeze()\n",
    "        return np.mean(mask[mask != 0])\n",
    "    except Exception:\n",
    "        return pd.NA"
   ]
  },
  {
   "cell_type": "code",
   "execution_count": null,
   "metadata": {},
   "outputs": [],
   "source": [
    "join['dnbr_promedio'] = join['geometry'].apply(lambda p: dnbr_promedio(p, dnbr))\n",
    "join['dnbr_promedio'] = join['dnbr_promedio'].fillna(join['dnbr_promedio'].mean())"
   ]
  },
  {
   "cell_type": "markdown",
   "metadata": {},
   "source": [
    "# Analisis"
   ]
  },
  {
   "cell_type": "code",
   "execution_count": null,
   "metadata": {},
   "outputs": [],
   "source": [
    "import numpy as np\n",
    "import matplotlib.pyplot as plt\n",
    "from sklearn import linear_model"
   ]
  },
  {
   "cell_type": "code",
   "execution_count": null,
   "metadata": {},
   "outputs": [],
   "source": [
    "noval = join['Validado'] != 'X'\n",
    "sival = join['Validado'] == 'X'"
   ]
  },
  {
   "cell_type": "code",
   "execution_count": null,
   "metadata": {},
   "outputs": [],
   "source": [
    "join['dnbrval'] = join['dnbr_promedio'] * join['Valuacion']\n",
    "join['dnbrrec'] = join['dnbr_promedio'] * join['ValorReclamo']\n",
    "join['dnbrtot'] = join['dnbr_promedio'] * join['Superficie']"
   ]
  },
  {
   "cell_type": "code",
   "execution_count": null,
   "metadata": {},
   "outputs": [],
   "source": [
    "join['val'] = join['Valuacion1'] + join['Valuacion'] + join['Valuacion_'] + join['Valuacion0']\n",
    "join['sup'] = join['Superficie'] + join['Superfici1'] + join['Superfici0']"
   ]
  },
  {
   "cell_type": "code",
   "execution_count": null,
   "metadata": {},
   "outputs": [],
   "source": [
    "cols = join.drop(['Valuacion_Danios', 'base_impon', 'base_impo0', 'base_impo1'], axis=1).select_dtypes(['number']).columns"
   ]
  },
  {
   "cell_type": "code",
   "execution_count": null,
   "metadata": {},
   "outputs": [],
   "source": [
    "join[cols] = (join[cols] - join[cols].mean()) / join[cols].std()"
   ]
  },
  {
   "cell_type": "code",
   "execution_count": null,
   "metadata": {},
   "outputs": [],
   "source": [
    "join.select_dtypes(['number']).loc[sival].corr()[['ValorReclamo', 'Valuacion_Danios']].sort_values(['Valuacion_Danios'], ascending=False)"
   ]
  },
  {
   "cell_type": "code",
   "execution_count": null,
   "metadata": {},
   "outputs": [],
   "source": [
    "n_alphas = 1000\n",
    "alphas = np.logspace(-10, 10, n_alphas)\n",
    "coefs = np.full((n_alphas, len(cols)), np.nan)\n",
    "scores = np.full(n_alphas, np.nan)\n",
    "\n",
    "for i, alpha in enumerate(alphas):\n",
    "    mod = linear_model.Lasso(alpha=alpha, fit_intercept=True)\n",
    "    mod.fit(join.loc[sival, cols], join.loc[sival, 'Valuacion_Danios'])\n",
    "    scores[i] = mod.score(join.loc[sival, cols], join.loc[sival, 'Valuacion_Danios'])\n",
    "    coefs[i, :] = (mod.coef_)"
   ]
  },
  {
   "cell_type": "code",
   "execution_count": null,
   "metadata": {},
   "outputs": [],
   "source": [
    "for i, name in enumerate(cols):\n",
    "    plt.plot(alphas, np.abs(coefs[:, i]), label=name)\n",
    "plt.title(\"Peso de coeficientes Lasso\")\n",
    "plt.xlabel(\"alpha\")\n",
    "plt.ylabel(\"peso\")\n",
    "\n",
    "plt.legend(loc='center left', bbox_to_anchor=(1, 0.5))\n",
    "\n",
    "# plt.xlim((0.3, 1.5))\n",
    "plt.xscale(\"log\")\n",
    "\n",
    "plt.show()"
   ]
  },
  {
   "cell_type": "code",
   "execution_count": null,
   "metadata": {},
   "outputs": [],
   "source": [
    "todos = []\n",
    "for i in range(coefs.shape[0]):\n",
    "    ranks = [l for l in zip(cols, coefs[i, :])]\n",
    "    ranks = sorted(ranks, key=lambda x: x[1], reverse = True)\n",
    "    todos += [{ranks[i][0] for i in range(3)}]\n",
    "\n",
    "\n",
    "combos = [i for n, i in enumerate(todos) if i not in todos[:n]]\n",
    "combos"
   ]
  },
  {
   "cell_type": "markdown",
   "metadata": {},
   "source": [
    "# Test"
   ]
  },
  {
   "cell_type": "code",
   "execution_count": null,
   "metadata": {},
   "outputs": [],
   "source": [
    "features = ['Valuacion_', 'dnbrtot', 'ValorReclamo']"
   ]
  },
  {
   "cell_type": "code",
   "execution_count": null,
   "metadata": {},
   "outputs": [],
   "source": [
    "join[features] = join[features].fillna(join[features].mean())"
   ]
  },
  {
   "cell_type": "code",
   "execution_count": null,
   "metadata": {},
   "outputs": [],
   "source": [
    "linear = linear_model.LinearRegression(fit_intercept=True)\n",
    "linear.fit(join.loc[sival, features], join.loc[sival, 'Valuacion_Danios'])"
   ]
  },
  {
   "cell_type": "code",
   "execution_count": null,
   "metadata": {},
   "outputs": [],
   "source": [
    "linear.coef_"
   ]
  },
  {
   "cell_type": "code",
   "execution_count": null,
   "metadata": {},
   "outputs": [],
   "source": [
    "join.loc[noval, 'Valuacion_Danios'] = linear.predict(join.loc[noval, features])"
   ]
  },
  {
   "cell_type": "code",
   "execution_count": null,
   "metadata": {},
   "outputs": [],
   "source": [
    "join.loc[sival, 'Valuacion_Danios']"
   ]
  },
  {
   "cell_type": "code",
   "execution_count": null,
   "metadata": {},
   "outputs": [],
   "source": [
    "linear.predict(join.loc[sival, features])"
   ]
  },
  {
   "cell_type": "code",
   "execution_count": null,
   "metadata": {},
   "outputs": [],
   "source": [
    "pred = pd.read_csv('test.csv')\n",
    "pred['par_idparc'] = pred['idParcela'].apply(lambda id: float(id.split('-')[0]))\n",
    "pred = pred.join(join, on='par_idparc')[['idParcela', 'Valuacion_Danios']]\n",
    "pred"
   ]
  },
  {
   "cell_type": "code",
   "execution_count": null,
   "metadata": {},
   "outputs": [],
   "source": [
    "pred.to_csv('pred.csv', index=False)"
   ]
  }
 ],
 "metadata": {
  "kernelspec": {
   "display_name": "Python 3",
   "language": "python",
   "name": "python3"
  },
  "language_info": {
   "codemirror_mode": {
    "name": "ipython",
    "version": 3
   },
   "file_extension": ".py",
   "mimetype": "text/x-python",
   "name": "python",
   "nbconvert_exporter": "python",
   "pygments_lexer": "ipython3",
   "version": "3.10.12"
  }
 },
 "nbformat": 4,
 "nbformat_minor": 2
}
